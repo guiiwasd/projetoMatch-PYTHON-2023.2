{
  "nbformat": 4,
  "nbformat_minor": 0,
  "metadata": {
    "colab": {
      "provenance": [],
      "authorship_tag": "ABX9TyNPdw2YwYiBpD/1zDyHvhQ8",
      "include_colab_link": true
    },
    "kernelspec": {
      "name": "python3",
      "display_name": "Python 3"
    },
    "language_info": {
      "name": "python"
    }
  },
  "cells": [
    {
      "cell_type": "markdown",
      "metadata": {
        "id": "view-in-github",
        "colab_type": "text"
      },
      "source": [
        "<a href=\"https://colab.research.google.com/github/guipatrocinio/Projeto-Match-Biblioteca-2023.2-/blob/main/biblioteca_guilherme.ipynb\" target=\"_parent\"><img src=\"https://colab.research.google.com/assets/colab-badge.svg\" alt=\"Open In Colab\"/></a>"
      ]
    },
    {
      "cell_type": "code",
      "execution_count": null,
      "metadata": {
        "id": "lWHAVT6zY2Zw"
      },
      "outputs": [],
      "source": [
        "class Livro:\n",
        "    def __init__(self, titulo, autor, exemplares_disponiveis):\n",
        "        self.titulo = titulo\n",
        "        self.autor = autor\n",
        "        self.exemplares_disponiveis = exemplares_disponiveis"
      ]
    },
    {
      "cell_type": "code",
      "source": [
        "armazenamento = []\n",
        "def cadastrar_livro(titulo, autor, exemplares_disponiveis):\n",
        "    livro = Livro(titulo, autor, exemplares_disponiveis)\n",
        "    armazenamento.append(livro)"
      ],
      "metadata": {
        "id": "WdmEkN4EaRqZ"
      },
      "execution_count": null,
      "outputs": []
    },
    {
      "cell_type": "code",
      "source": [
        "def pesquisar_livro(pesquisa):\n",
        "    resultados = []\n",
        "    for livro in armazenamento:\n",
        "      if pesquisa in livro.titulo or pesquisa in livro.autor:\n",
        "        resultados.append(livro)\n",
        "    return resultados"
      ],
      "metadata": {
        "id": "7KC6n1QKaUIY"
      },
      "execution_count": null,
      "outputs": []
    },
    {
      "cell_type": "code",
      "source": [
        "def cadastrar_livro(titulo, autor, exemplares_disponiveis):\n",
        "    if exemplares_disponiveis > 0:\n",
        "      livro = Livro(titulo, autor, exemplares_disponiveis)\n",
        "      armazenamento.append(livro)\n",
        "    else:\n",
        "      print(\"O número de exemplares disponíveis deve ser maior que zero.\")"
      ],
      "metadata": {
        "id": "sacp-UTCaVoJ"
      },
      "execution_count": null,
      "outputs": []
    },
    {
      "cell_type": "code",
      "source": [
        "def exibir_resultados(resultados):\n",
        "    if armazenamento:\n",
        "      print(\"Esses foram os livros que encontrei baseado em sua pesquisa: \")\n",
        "      for livro in resultados:\n",
        "          print(f\"Título: {livro.titulo}\")\n",
        "          print(f\"Autor: {livro.autor}\")\n",
        "          print(f\"Exemplares disponíveis: {livro.exemplares_disponiveis}\")\n",
        "    else:\n",
        "      print(\"Não consegui encontrar nenhum livro. Tente novamente.\")"
      ],
      "metadata": {
        "id": "4j8p5VHvbEC_"
      },
      "execution_count": null,
      "outputs": []
    },
    {
      "cell_type": "code",
      "source": [
        "def livros_armazenados():\n",
        "    if armazenamento:\n",
        "      print(\"Livros disponíveis:\")\n",
        "      for livro in armazenamento:\n",
        "        print(f\"Título: {livro.titulo}\")\n",
        "        print(f\"Autor: {livro.autor}\")\n",
        "        print(f\"Exemplares disponíveis: {livro.exemplares_disponiveis}\")\n",
        "    else:\n",
        "        print(\"O catálogo de livros está vazio.\")"
      ],
      "metadata": {
        "id": "ARtsy03cdoMi"
      },
      "execution_count": null,
      "outputs": []
    },
    {
      "cell_type": "code",
      "source": [
        "while True:\n",
        "    print(\"Seja bem-vindo à Biblioteca Guilherme. Consulte ou cadastre um novo livro.\")\n",
        "    print(\"0. Sair.\")\n",
        "    print(\"1. Cadastrar novo livro\")\n",
        "    print(\"2. Pesquisar livros\")\n",
        "    print(\"3. Livros disponíveis\")\n",
        "\n",
        "    opcao = input(\"Escolha uma opção: \")\n",
        "\n",
        "    if opcao == '1':\n",
        "      titulo = input(\"Título do livro: \")\n",
        "      autor = input(\"Autor do livro: \")\n",
        "      exemplares = int(input(\"Número de exemplares disponíveis: \"))\n",
        "      cadastrar_livro(titulo, autor, exemplares)\n",
        "    elif opcao == '2':\n",
        "      pesquisa = input(\"Digite o título ou autor a ser pesquisado: \")\n",
        "      resultados = pesquisar_livro(pesquisa)\n",
        "      exibir_resultados(resultados)\n",
        "    elif opcao == '3':\n",
        "      print(\"Os livros disponíveis são: \")\n",
        "      livros_armazenados()\n",
        "    elif opcao == '0':\n",
        "      print(\"Obrigado, volte sempre!\")\n",
        "      break\n",
        "    else:\n",
        "      print(\"Opção inválida. Por favor, tente novamente.\")"
      ],
      "metadata": {
        "colab": {
          "base_uri": "https://localhost:8080/"
        },
        "id": "ClzJ42YzabKI",
        "outputId": "11196cb7-0fbf-4373-87e2-932c32e105b1"
      },
      "execution_count": null,
      "outputs": [
        {
          "output_type": "stream",
          "name": "stdout",
          "text": [
            "Seja bem-vindo à Biblioteca Guilherme. Consulte ou cadastre um novo livro.\n",
            "0. Sair.\n",
            "1. Cadastrar novo livro\n",
            "2. Pesquisar livros\n",
            "3. Livros disponíveis\n",
            "Escolha uma opção: 0\n",
            "Obrigado, volte sempre!\n"
          ]
        }
      ]
    }
  ]
}